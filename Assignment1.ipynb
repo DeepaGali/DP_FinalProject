{
  "nbformat": 4,
  "nbformat_minor": 0,
  "metadata": {
    "colab": {
      "name": "Assignment1.ipynb",
      "provenance": [],
      "collapsed_sections": [],
      "authorship_tag": "ABX9TyNEBtVul0HW3tPCR63mHgtP",
      "include_colab_link": true
    },
    "kernelspec": {
      "name": "python3",
      "display_name": "Python 3"
    },
    "language_info": {
      "name": "python"
    }
  },
  "cells": [
    {
      "cell_type": "markdown",
      "metadata": {
        "id": "view-in-github",
        "colab_type": "text"
      },
      "source": [
        "<a href=\"https://colab.research.google.com/github/DeepaGali/DP_FinalProject/blob/main/Assignment1.ipynb\" target=\"_parent\"><img src=\"https://colab.research.google.com/assets/colab-badge.svg\" alt=\"Open In Colab\"/></a>"
      ]
    },
    {
      "cell_type": "code",
      "execution_count": null,
      "metadata": {
        "colab": {
          "base_uri": "https://localhost:8080/"
        },
        "id": "d5e_syJtoTt_",
        "outputId": "082d5bf8-e945-4ec1-c1e7-46698a63feff"
      },
      "outputs": [
        {
          "output_type": "stream",
          "name": "stdout",
          "text": [
            "Get:1 http://security.ubuntu.com/ubuntu bionic-security InRelease [88.7 kB]\n",
            "Hit:2 https://developer.download.nvidia.com/compute/cuda/repos/ubuntu1804/x86_64  InRelease\n",
            "Get:3 https://cloud.r-project.org/bin/linux/ubuntu bionic-cran40/ InRelease [3,626 B]\n",
            "Ign:4 https://developer.download.nvidia.com/compute/machine-learning/repos/ubuntu1804/x86_64  InRelease\n",
            "Hit:5 https://developer.download.nvidia.com/compute/machine-learning/repos/ubuntu1804/x86_64  Release\n",
            "Get:6 http://ppa.launchpad.net/c2d4u.team/c2d4u4.0+/ubuntu bionic InRelease [15.9 kB]\n",
            "Hit:7 http://archive.ubuntu.com/ubuntu bionic InRelease\n",
            "Get:8 http://archive.ubuntu.com/ubuntu bionic-updates InRelease [88.7 kB]\n",
            "Hit:9 http://ppa.launchpad.net/cran/libgit2/ubuntu bionic InRelease\n",
            "Get:10 http://archive.ubuntu.com/ubuntu bionic-backports InRelease [74.6 kB]\n",
            "Get:11 http://ppa.launchpad.net/deadsnakes/ppa/ubuntu bionic InRelease [15.9 kB]\n",
            "Get:12 http://security.ubuntu.com/ubuntu bionic-security/universe amd64 Packages [1,512 kB]\n",
            "Hit:13 http://ppa.launchpad.net/graphics-drivers/ppa/ubuntu bionic InRelease\n",
            "Get:14 http://security.ubuntu.com/ubuntu bionic-security/main amd64 Packages [2,799 kB]\n",
            "Get:16 http://ppa.launchpad.net/c2d4u.team/c2d4u4.0+/ubuntu bionic/main Sources [1,992 kB]\n",
            "Get:17 http://archive.ubuntu.com/ubuntu bionic-updates/main amd64 Packages [3,231 kB]\n",
            "Get:18 http://ppa.launchpad.net/c2d4u.team/c2d4u4.0+/ubuntu bionic/main amd64 Packages [1,021 kB]\n",
            "Get:19 http://archive.ubuntu.com/ubuntu bionic-updates/universe amd64 Packages [2,286 kB]\n",
            "Get:20 http://ppa.launchpad.net/deadsnakes/ppa/ubuntu bionic/main amd64 Packages [45.3 kB]\n",
            "Fetched 13.2 MB in 4s (3,132 kB/s)\n",
            "Reading package lists... Done\n"
          ]
        }
      ],
      "source": [
        "!apt-get update #update linux\n",
        "!apt-get install openjdk-8-jdk-headless -qq > /dev/null #download and install openjdk\n",
        "!wget -q http://archive.apache.org/dist/spark/spark-3.2.1/spark-3.2.1-bin-hadoop2.7.tgz #download spark binary (gunzip). -q: Turn off Wget’s output.\n",
        "!tar xf spark-3.2.1-bin-hadoop2.7.tgz #extract the spark package\n",
        "!pip install -q findspark #install the findspark package"
      ]
    },
    {
      "cell_type": "code",
      "source": [
        "#set environment variables\n",
        "import os \n",
        "os.environ[\"JAVA_HOME\"] = \"/usr/lib/jvm/java-8-openjdk-amd64\"\n",
        "os.environ[\"SPARK_HOME\"] = \"/content/spark-3.2.1-bin-hadoop2.7\""
      ],
      "metadata": {
        "id": "KIittdC_6JZe"
      },
      "execution_count": null,
      "outputs": []
    },
    {
      "cell_type": "code",
      "source": [
        "!ls #check directory"
      ],
      "metadata": {
        "colab": {
          "base_uri": "https://localhost:8080/"
        },
        "id": "PjRDuksh6QBf",
        "outputId": "423e86c3-803a-4c2f-ae70-294b141903df"
      },
      "execution_count": null,
      "outputs": [
        {
          "output_type": "stream",
          "name": "stdout",
          "text": [
            "sample_data  spark-3.2.1-bin-hadoop2.7\tspark-3.2.1-bin-hadoop2.7.tgz\n"
          ]
        }
      ]
    },
    {
      "cell_type": "code",
      "source": [
        "!ls sample_data #check directory under sample_data"
      ],
      "metadata": {
        "colab": {
          "base_uri": "https://localhost:8080/"
        },
        "id": "1LBi0O716R8N",
        "outputId": "e21c5d39-585b-4626-d002-bd5a8118fe72"
      },
      "execution_count": null,
      "outputs": [
        {
          "output_type": "stream",
          "name": "stdout",
          "text": [
            "anscombe.json\t\t      mnist_test.csv\n",
            "california_housing_test.csv   mnist_train_small.csv\n",
            "california_housing_train.csv  README.md\n"
          ]
        }
      ]
    },
    {
      "cell_type": "code",
      "source": [
        "import findspark\n",
        "findspark.init()\n",
        "from pyspark import SparkContext\n",
        "\n",
        "sc = SparkContext.getOrCreate()\n",
        "sc"
      ],
      "metadata": {
        "colab": {
          "base_uri": "https://localhost:8080/",
          "height": 196
        },
        "id": "MdMzFVUX_J53",
        "outputId": "e91b7777-a0f7-4257-a5ad-7c07570a26f0"
      },
      "execution_count": null,
      "outputs": [
        {
          "output_type": "execute_result",
          "data": {
            "text/plain": [
              "<SparkContext master=local[*] appName=pyspark-shell>"
            ],
            "text/html": [
              "\n",
              "        <div>\n",
              "            <p><b>SparkContext</b></p>\n",
              "\n",
              "            <p><a href=\"http://1a11d8b6686a:4040\">Spark UI</a></p>\n",
              "\n",
              "            <dl>\n",
              "              <dt>Version</dt>\n",
              "                <dd><code>v3.2.1</code></dd>\n",
              "              <dt>Master</dt>\n",
              "                <dd><code>local[*]</code></dd>\n",
              "              <dt>AppName</dt>\n",
              "                <dd><code>pyspark-shell</code></dd>\n",
              "            </dl>\n",
              "        </div>\n",
              "        "
            ]
          },
          "metadata": {},
          "execution_count": 10
        }
      ]
    },
    {
      "cell_type": "code",
      "source": [
        "#1.\tImport the data using inferred schema. Log the time taken to import.\n",
        "\n",
        "#import pyspark\n",
        "\n",
        "from pyspark.sql import SparkSession\n",
        "spark = SparkSession.builder.getOrCreate() \n",
        "\n",
        "# File location and type\n",
        "path = 'sample_data/covid_19_202001_202007.csv'\n",
        "file_type = \"csv\"\n",
        "\n",
        "# CSV options\n",
        "infer_schema = \"true\"\n",
        "first_row_is_header = \"true\"\n",
        "delimiter = \",\"\n",
        "\n",
        "#Log the time taken to import\n",
        "import time\n",
        "log_time = time.time()\n",
        "# Import csv. The applied options are for CSV files. For other file types, these will be ignored.\n",
        "df = spark.read.format(file_type) \\\n",
        "  .option(\"inferSchema\", infer_schema) \\\n",
        "  .option(\"header\", first_row_is_header) \\\n",
        "  .option(\"sep\", delimiter) \\\n",
        "  .load(path)\n",
        "\n",
        "print(df.head()) #first row object\n",
        "#spark.time(df.show())\n",
        "print(f\"Time taken to Import csv: {time.time() - log_time}\")"
      ],
      "metadata": {
        "id": "gG5O6e2L674F",
        "colab": {
          "base_uri": "https://localhost:8080/"
        },
        "outputId": "a047dc2f-7c76-470a-bc1d-d45513005171"
      },
      "execution_count": null,
      "outputs": [
        {
          "output_type": "stream",
          "name": "stdout",
          "text": [
            "Row(Province/State=None, Country/Region='Afghanistan', Lat=33.93911, Long=67.709953, Date='2020-01-22', Confirmed=0, Deaths=0, Recovered=0, Active=0, WHO Region='Eastern Mediterranean')\n",
            "Time taken to Import csv: 9.127525091171265\n"
          ]
        }
      ]
    },
    {
      "cell_type": "code",
      "source": [
        "df.show(10)"
      ],
      "metadata": {
        "colab": {
          "base_uri": "https://localhost:8080/"
        },
        "id": "6J9P3-baVWAB",
        "outputId": "42c24dba-68cc-45dd-a60f-af4fd6b2d0dd"
      },
      "execution_count": null,
      "outputs": [
        {
          "output_type": "stream",
          "name": "stdout",
          "text": [
            "+--------------------+-------------------+--------+---------+----------+---------+------+---------+------+--------------------+\n",
            "|      Province/State|     Country/Region|     Lat|     Long|      Date|Confirmed|Deaths|Recovered|Active|          WHO Region|\n",
            "+--------------------+-------------------+--------+---------+----------+---------+------+---------+------+--------------------+\n",
            "|                null|        Afghanistan|33.93911|67.709953|2020-01-22|        0|     0|        0|     0|Eastern Mediterra...|\n",
            "|                null|            Albania| 41.1533|  20.1683|2020-01-22|        0|     0|        0|     0|              Europe|\n",
            "|                null|            Algeria| 28.0339|   1.6596|2020-01-22|        0|     0|        0|     0|              Africa|\n",
            "|                null|            Andorra| 42.5063|   1.5218|2020-01-22|        0|     0|        0|     0|              Europe|\n",
            "|                null|             Angola|-11.2027|  17.8739|2020-01-22|        0|     0|        0|     0|              Africa|\n",
            "|                null|Antigua and Barbuda| 17.0608| -61.7964|2020-01-22|        0|     0|        0|     0|            Americas|\n",
            "|                null|          Argentina|-38.4161| -63.6167|2020-01-22|        0|     0|        0|     0|            Americas|\n",
            "|                null|            Armenia| 40.0691|  45.0382|2020-01-22|        0|     0|        0|     0|              Europe|\n",
            "|Australian Capita...|          Australia|-35.4735| 149.0124|2020-01-22|        0|     0|        0|     0|     Western Pacific|\n",
            "|     New South Wales|          Australia|-33.8688| 151.2093|2020-01-22|        0|     0|        0|     0|     Western Pacific|\n",
            "+--------------------+-------------------+--------+---------+----------+---------+------+---------+------+--------------------+\n",
            "only showing top 10 rows\n",
            "\n"
          ]
        }
      ]
    },
    {
      "cell_type": "code",
      "source": [
        "df.describe()"
      ],
      "metadata": {
        "colab": {
          "base_uri": "https://localhost:8080/"
        },
        "id": "PccNj0H7UCdU",
        "outputId": "5852b167-2856-472d-edec-c0d323561be3"
      },
      "execution_count": null,
      "outputs": [
        {
          "output_type": "execute_result",
          "data": {
            "text/plain": [
              "DataFrame[summary: string, Province/State: string, Country/Region: string, Lat: string, Long: string, Date: string, Confirmed: string, Deaths: string, Recovered: string, Active: string, WHO Region: string]"
            ]
          },
          "metadata": {},
          "execution_count": 17
        }
      ]
    },
    {
      "cell_type": "code",
      "source": [
        "#2.\tDefine the schema and then import the data using your defined schema. Log the time taken to import\n",
        "from pyspark.sql.types import *\n",
        "path = 'sample_data/covid_19_202001_202007.csv'\n",
        "#Log the time taken to import\n",
        "import time\n",
        "log_time1 = time.time()\n",
        "# Define the schema\n",
        "my_schema = StructType([\n",
        "  # Define a StructField for each field\n",
        "  StructField('Province/State', StringType(), False),\n",
        "  StructField('Country/Region', StringType(), False),\n",
        "  StructField('Lat', IntegerType(), False),\n",
        "  StructField('Long', IntegerType(), False),\n",
        "  StructField('Date', DateType(), False),\n",
        "  StructField('Confirmed', IntegerType(), False),\n",
        "  StructField('Deaths', IntegerType(), False),\n",
        "  StructField('Recovered', IntegerType(), False),\n",
        "  StructField('Active', IntegerType(), False),\n",
        "  StructField('WHO Region', StringType(), False)\n",
        "])\n",
        "\n",
        "df1 = spark.read.csv(path, header=True, nullValue='NA', schema=my_schema )\n",
        "print(df1.head())\n",
        "print(f\"Time taken to Import csv: {time.time() - log_time1}\")"
      ],
      "metadata": {
        "colab": {
          "base_uri": "https://localhost:8080/"
        },
        "id": "XsN_PYMH_X2h",
        "outputId": "9d345a4f-e2e9-489c-b6a2-2c6c96a02e04"
      },
      "execution_count": null,
      "outputs": [
        {
          "output_type": "stream",
          "name": "stdout",
          "text": [
            "Row(Province/State=None, Country/Region='Afghanistan', Lat=None, Long=None, Date=datetime.date(2020, 1, 22), Confirmed=0, Deaths=0, Recovered=0, Active=0, WHO Region='Eastern Mediterranean')\n",
            "Time taken to Import csv: 0.22438645362854004\n"
          ]
        }
      ]
    },
    {
      "cell_type": "code",
      "source": [
        "df1.describe()"
      ],
      "metadata": {
        "colab": {
          "base_uri": "https://localhost:8080/"
        },
        "id": "C3jH1tqOVRWl",
        "outputId": "16cf4ba6-717e-4dc7-e7be-87b70b799267"
      },
      "execution_count": null,
      "outputs": [
        {
          "output_type": "execute_result",
          "data": {
            "text/plain": [
              "DataFrame[summary: string, Province/State: string, Country/Region: string, Lat: string, Long: string, Confirmed: string, Deaths: string, Recovered: string, Active: string, WHO Region: string]"
            ]
          },
          "metadata": {},
          "execution_count": 19
        }
      ]
    },
    {
      "cell_type": "code",
      "source": [
        "df1.show(10)"
      ],
      "metadata": {
        "colab": {
          "base_uri": "https://localhost:8080/"
        },
        "id": "A0gk_gf_VfPm",
        "outputId": "2112fb79-be97-4d8e-9775-47f02a71fecb"
      },
      "execution_count": null,
      "outputs": [
        {
          "output_type": "stream",
          "name": "stdout",
          "text": [
            "+--------------------+-------------------+----+----+----------+---------+------+---------+------+--------------------+\n",
            "|      Province/State|     Country/Region| Lat|Long|      Date|Confirmed|Deaths|Recovered|Active|          WHO Region|\n",
            "+--------------------+-------------------+----+----+----------+---------+------+---------+------+--------------------+\n",
            "|                null|        Afghanistan|null|null|2020-01-22|        0|     0|        0|     0|Eastern Mediterra...|\n",
            "|                null|            Albania|null|null|2020-01-22|        0|     0|        0|     0|              Europe|\n",
            "|                null|            Algeria|null|null|2020-01-22|        0|     0|        0|     0|              Africa|\n",
            "|                null|            Andorra|null|null|2020-01-22|        0|     0|        0|     0|              Europe|\n",
            "|                null|             Angola|null|null|2020-01-22|        0|     0|        0|     0|              Africa|\n",
            "|                null|Antigua and Barbuda|null|null|2020-01-22|        0|     0|        0|     0|            Americas|\n",
            "|                null|          Argentina|null|null|2020-01-22|        0|     0|        0|     0|            Americas|\n",
            "|                null|            Armenia|null|null|2020-01-22|        0|     0|        0|     0|              Europe|\n",
            "|Australian Capita...|          Australia|null|null|2020-01-22|        0|     0|        0|     0|     Western Pacific|\n",
            "|     New South Wales|          Australia|null|null|2020-01-22|        0|     0|        0|     0|     Western Pacific|\n",
            "+--------------------+-------------------+----+----+----------+---------+------+---------+------+--------------------+\n",
            "only showing top 10 rows\n",
            "\n"
          ]
        }
      ]
    },
    {
      "cell_type": "code",
      "source": [
        "#3.\tWould you recommend creating a schema first before importing the data? Why?\n",
        "I would recommend creating a schema first before importing the data because, creating schema took 0.05 seconds and using inferred schema took 9 seconds.\n",
        "\n",
        "So, it is clear that creating schema is faster than inferring a schema"
      ],
      "metadata": {
        "id": "iXeJG3_aVhYu"
      },
      "execution_count": null,
      "outputs": []
    },
    {
      "cell_type": "code",
      "source": [
        "#4.\tProvide summary statistics on the dataset\n",
        "df.describe().show()"
      ],
      "metadata": {
        "colab": {
          "base_uri": "https://localhost:8080/"
        },
        "id": "RS1EEloBVf2z",
        "outputId": "fdbf65ec-c914-46a9-fa0c-4c7a309a0a45"
      },
      "execution_count": null,
      "outputs": [
        {
          "output_type": "stream",
          "name": "stdout",
          "text": [
            "+-------+--------------+--------------+------------------+------------------+----------+------------------+-----------------+-----------------+-----------------+---------------+\n",
            "|summary|Province/State|Country/Region|               Lat|              Long|      Date|         Confirmed|           Deaths|        Recovered|           Active|     WHO Region|\n",
            "+-------+--------------+--------------+------------------+------------------+----------+------------------+-----------------+-----------------+-----------------+---------------+\n",
            "|  count|         14664|         49068|             49068|             49068|     49068|             49068|            49068|            49068|            49068|          49068|\n",
            "|   mean|          null|          null|21.433730459769688|23.528236452106245|      null| 16884.90425531915|884.1791595337083|7915.713479253282| 8085.01161653216|           null|\n",
            "| stddev|          null|          null| 24.95031982606509|  70.4427397445028|      null|127300.20527228026|6313.584410596534|54800.91873054013|76258.90302550694|           null|\n",
            "|    min|       Alberta|   Afghanistan|          -51.7963|            -135.0|2020-01-22|                 0|                0|                0|              -14|         Africa|\n",
            "|    max|      Zhejiang|      Zimbabwe|           71.7069|           178.065|2020-07-27|           4290259|           148011|          1846641|          2816444|Western Pacific|\n",
            "+-------+--------------+--------------+------------------+------------------+----------+------------------+-----------------+-----------------+-----------------+---------------+\n",
            "\n"
          ]
        }
      ]
    },
    {
      "cell_type": "code",
      "source": [
        "#5.\tFor top 10 countries suffering from covid-19, plot the line charts to show the deaths from Jan 22, 2020 to July 27, 2020\n",
        "df.createOrReplaceTempView(\"coviddeaths\")\n",
        "df_sql_query = spark.sql(\"SELECT `Country/Region`, SUM(Deaths) FROM coviddeaths WHERE Date between '2020-01-22' and '2020-07-27'  GROUP BY `Country/Region` ORDER BY sum(Deaths) DESC LIMIT 10\") ;\n",
        "df_sql_query.show()"
      ],
      "metadata": {
        "colab": {
          "base_uri": "https://localhost:8080/"
        },
        "id": "zwS1MzfpFMQ5",
        "outputId": "120d9379-7d69-4cb6-b912-5df9c79668ad"
      },
      "execution_count": null,
      "outputs": [
        {
          "output_type": "stream",
          "name": "stdout",
          "text": [
            "+--------------+-----------+\n",
            "|Country/Region|sum(Deaths)|\n",
            "+--------------+-----------+\n",
            "|            US|   11011411|\n",
            "|United Kingdom|    3997775|\n",
            "|        Brazil|    3938034|\n",
            "|         Italy|    3707717|\n",
            "|        France|    3048524|\n",
            "|         Spain|    3033030|\n",
            "|        Mexico|    1728277|\n",
            "|         India|    1111831|\n",
            "|          Iran|    1024136|\n",
            "|       Belgium|     963679|\n",
            "+--------------+-----------+\n",
            "\n"
          ]
        }
      ]
    },
    {
      "cell_type": "code",
      "source": [
        "import matplotlib.pyplot as plt\n",
        "import numpy as np\n",
        "import pandas as pd\n",
        "dataframeplt= df_sql_query.toPandas()\n",
        "fig = plt.figure(figsize = (18,10))\n",
        "dataframeplt.plot(x = 'Country/Region', y = 'sum(Deaths)', label = 'deaths from Jan 22, 2020 to July 27, 2020')\n",
        "plt.title('Top 10 countries suffering from covid-19', fontsize = 15)\n",
        "plt.xlabel('Country/Region', fontsize = 12)\n",
        "plt.ylabel('Covid deaths', fontsize = 12)\n",
        "plt.show()"
      ],
      "metadata": {
        "colab": {
          "base_uri": "https://localhost:8080/",
          "height": 317
        },
        "id": "K-8lL61lGQw7",
        "outputId": "d916137f-d95a-4a69-deb0-96970252c2d5"
      },
      "execution_count": null,
      "outputs": [
        {
          "output_type": "display_data",
          "data": {
            "text/plain": [
              "<Figure size 1296x720 with 0 Axes>"
            ]
          },
          "metadata": {}
        },
        {
          "output_type": "display_data",
          "data": {
            "text/plain": [
              "<Figure size 432x288 with 1 Axes>"
            ],
            "image/png": "[encoded data removed]"
          },
          "metadata": {
            "needs_background": "light"
          }
        }
      ]
    },
    {
      "cell_type": "code",
      "source": [
        "#6.\tPlot the recovery rate (recovered cases / confirmed cases) for the period Jan 22, 2020 to July 27, 2020. Which 5 countries have a relatively higher recovery rate?\n",
        "df.createOrReplaceTempView(\"recoveryrate\")\n",
        "df_sql_query1 = spark.sql(\"SELECT `Country/Region`, SUM(Recovered)/SUM(Confirmed) as recoveryrate FROM recoveryrate WHERE Date between '2020-01-22' and '2020-07-27'  GROUP BY `Country/Region` ORDER BY '(sum(Recovered) / sum(Confirmed))' Desc LIMIT 5\") \n",
        "df_sql_query1.show()"
      ],
      "metadata": {
        "colab": {
          "base_uri": "https://localhost:8080/"
        },
        "id": "erwBRK3S91pa",
        "outputId": "d347e5df-aa75-49e9-dbbc-c3ea03619409"
      },
      "execution_count": null,
      "outputs": [
        {
          "output_type": "stream",
          "name": "stdout",
          "text": [
            "+--------------+-------------------+\n",
            "|Country/Region|       recoveryrate|\n",
            "+--------------+-------------------+\n",
            "|          Chad| 0.7482795129698253|\n",
            "|      Paraguay| 0.4847384139205617|\n",
            "|        Russia| 0.5532113422775353|\n",
            "|         Yemen|0.35395951175945223|\n",
            "|       Senegal| 0.6134853045306841|\n",
            "+--------------+-------------------+\n",
            "\n"
          ]
        }
      ]
    },
    {
      "cell_type": "code",
      "source": [
        "from google.colab import drive\n",
        "drive.mount('/content/drive')"
      ],
      "metadata": {
        "id": "30y7VJmV7MQl"
      },
      "execution_count": null,
      "outputs": []
    },
    {
      "cell_type": "code",
      "source": [
        "import matplotlib.pyplot as plt\n",
        "import numpy as np\n",
        "import pandas as pd\n",
        "dataframeplt1= df_sql_query1.toPandas()\n",
        "fig = plt.figure(figsize = (18,10))\n",
        "dataframeplt1.plot(x = 'Country/Region', y = 'recoveryrate', label = 'recovery rate from Jan 22, 2020 to July 27, 2020')\n",
        "plt.title('Top 5 countries with high covid -19 recovery rate', fontsize = 15)\n",
        "plt.xlabel('Country/Region', fontsize = 12)\n",
        "plt.ylabel('Recovery rate', fontsize = 12)\n",
        "plt.show()"
      ],
      "metadata": {
        "colab": {
          "base_uri": "https://localhost:8080/",
          "height": 317
        },
        "id": "O49bHjwyb8nv",
        "outputId": "9fc74de6-019c-45ae-de73-b5f6a3e9ac1a"
      },
      "execution_count": null,
      "outputs": [
        {
          "output_type": "display_data",
          "data": {
            "text/plain": [
              "<Figure size 1296x720 with 0 Axes>"
            ]
          },
          "metadata": {}
        },
        {
          "output_type": "display_data",
          "data": {
            "text/plain": [
              "<Figure size 432x288 with 1 Axes>"
            ],
            "image/png": "[encoded data removed]"
          },
          "metadata": {
            "needs_background": "light"
          }
        }
      ]
    },
    {
      "cell_type": "code",
      "source": [
        "#7.\tAs of July 27, 2020, aggregate the confirmed cases, deaths, recovered cases and active cases group by WHO region\n",
        "df.createOrReplaceTempView(\"aggregate\")\n",
        "df_sql_query2 = spark.sql(\"SELECT `WHO Region`, SUM(Confirmed) as confirmed, SUM(Deaths) as deaths, SUM(Active) as active, SUM(Recovered) as recovered FROM aggregate WHERE Date <= '2020-07-27' GROUP BY `WHO Region` \") \n",
        "df_sql_query2.show()"
      ],
      "metadata": {
        "colab": {
          "base_uri": "https://localhost:8080/"
        },
        "id": "kf4mvCHStpZu",
        "outputId": "9820ea34-1283-43f6-cb70-40812d747570"
      },
      "execution_count": null,
      "outputs": [
        {
          "output_type": "stream",
          "name": "stdout",
          "text": [
            "+--------------------+---------+--------+---------+---------+\n",
            "|          WHO Region|confirmed|  deaths|   active|recovered|\n",
            "+--------------------+---------+--------+---------+---------+\n",
            "|              Europe|248879793|19271040|106406678|123202075|\n",
            "|     Western Pacific| 26374411|  932430|  6580031| 18861950|\n",
            "|              Africa| 21791827|  439978| 10158119| 11193730|\n",
            "|Eastern Mediterra...| 74082892| 1924029| 24108160| 48050703|\n",
            "|            Americas|402261194|19359292|225832458|157069444|\n",
            "|     South-East Asia| 55118365| 1458134| 23629904| 30030327|\n",
            "+--------------------+---------+--------+---------+---------+\n",
            "\n"
          ]
        }
      ]
    },
    {
      "cell_type": "code",
      "source": [
        "#8.\tWhich 5 countries have the highest growth rate on confirmed cases 3 months after the 1st positive case detected within the country?\n",
        "df.createOrReplaceTempView(\"growthrate\")\n",
        "firstConfirmedDate = spark.sql(\"SELECT min(Date) as firstConfirmedDate FROM growthrate\") \n",
        "firstConfirmedDate.show()"
      ],
      "metadata": {
        "colab": {
          "base_uri": "https://localhost:8080/"
        },
        "id": "PwBV0yHfxDH2",
        "outputId": "655e46e7-53d8-4b00-bc82-54d83fc93888"
      },
      "execution_count": null,
      "outputs": [
        {
          "output_type": "stream",
          "name": "stdout",
          "text": [
            "+------------------+\n",
            "|firstConfirmedDate|\n",
            "+------------------+\n",
            "|        2020-01-22|\n",
            "+------------------+\n",
            "\n"
          ]
        }
      ]
    },
    {
      "cell_type": "code",
      "source": [
        "df.createOrReplaceTempView(\"growthrate1\")\n",
        "df_sql_query5 = spark.sql(\"SELECT `Country/Region`, SUM(active)/SUM(Confirmed) as growthrate FROM growthrate1 WHERE Date <= '2020-03-22' GROUP BY `Country/Region` ORDER BY '(sum(active) / sum(Confirmed))' Desc LIMIT 5\")\n",
        "df_sql_query5.show()"
      ],
      "metadata": {
        "colab": {
          "base_uri": "https://localhost:8080/"
        },
        "id": "vIZds8K_CEyq",
        "outputId": "dfbb90a5-8ec9-498e-e981-ff57e4b516ff"
      },
      "execution_count": null,
      "outputs": [
        {
          "output_type": "stream",
          "name": "stdout",
          "text": [
            "+--------------+------------------+\n",
            "|Country/Region|        growthrate|\n",
            "+--------------+------------------+\n",
            "|          Chad|               1.0|\n",
            "|      Paraguay| 0.983739837398374|\n",
            "|        Russia| 0.914409534127844|\n",
            "|         Yemen|              null|\n",
            "|       Senegal|0.9193083573487032|\n",
            "+--------------+------------------+\n",
            "\n"
          ]
        }
      ]
    },
    {
      "cell_type": "code",
      "source": [
        "#9.\tFor step 7, export the results to a JSON file\n",
        "df_sql_query2.write.json(\"covid19aggregation.json\")\n"
      ],
      "metadata": {
        "id": "xtO2_GokyO19"
      },
      "execution_count": null,
      "outputs": []
    }
  ]
}